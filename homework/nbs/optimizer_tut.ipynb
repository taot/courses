{
 "cells": [
  {
   "cell_type": "code",
   "execution_count": 1,
   "metadata": {
    "collapsed": true
   },
   "outputs": [],
   "source": [
    "import numpy as np"
   ]
  },
  {
   "cell_type": "code",
   "execution_count": 2,
   "metadata": {
    "collapsed": true
   },
   "outputs": [],
   "source": [
    "def lin(a, b, x):\n",
    "    return a * x + b"
   ]
  },
  {
   "cell_type": "code",
   "execution_count": 3,
   "metadata": {
    "collapsed": true
   },
   "outputs": [],
   "source": [
    "a = 3\n",
    "b = 8"
   ]
  },
  {
   "cell_type": "code",
   "execution_count": 4,
   "metadata": {},
   "outputs": [],
   "source": [
    "n = 30\n",
    "x = np.random.random(n)\n",
    "y = lin(a, b, x)"
   ]
  },
  {
   "cell_type": "code",
   "execution_count": 5,
   "metadata": {},
   "outputs": [
    {
     "data": {
      "text/plain": [
       "array([ 0.23912461,  0.95398156,  0.46417953,  0.00358621,  0.51580543,\n",
       "        0.72749405,  0.760452  ,  0.0271894 ,  0.57502367,  0.02802553,\n",
       "        0.74396056,  0.98760157,  0.66328748,  0.34900155,  0.47348718,\n",
       "        0.245209  ,  0.3350423 ,  0.98123676,  0.37080563,  0.92756196,\n",
       "        0.10467799,  0.68714889,  0.20019751,  0.91012496,  0.15575575,\n",
       "        0.82484318,  0.4822766 ,  0.95986607,  0.03943557,  0.58124064])"
      ]
     },
     "execution_count": 5,
     "metadata": {},
     "output_type": "execute_result"
    }
   ],
   "source": [
    "x"
   ]
  },
  {
   "cell_type": "code",
   "execution_count": 6,
   "metadata": {},
   "outputs": [
    {
     "data": {
      "text/plain": [
       "array([  8.71737384,  10.86194467,   9.3925386 ,   8.01075862,\n",
       "         9.54741629,  10.18248215,  10.28135601,   8.0815682 ,\n",
       "         9.725071  ,   8.08407659,  10.23188167,  10.96280471,\n",
       "         9.98986245,   9.04700464,   9.42046155,   8.735627  ,\n",
       "         9.00512689,  10.94371027,   9.11241689,  10.78268587,\n",
       "         8.31403398,  10.06144667,   8.60059252,  10.73037487,\n",
       "         8.46726725,  10.47452953,   9.4468298 ,  10.8795982 ,\n",
       "         8.11830672,   9.74372191])"
      ]
     },
     "execution_count": 6,
     "metadata": {},
     "output_type": "execute_result"
    }
   ],
   "source": [
    "y"
   ]
  },
  {
   "cell_type": "code",
   "execution_count": 7,
   "metadata": {
    "collapsed": true
   },
   "outputs": [],
   "source": [
    "def sse(y, y_pred):\n",
    "    return ((y - y_pred) ** 2).sum()\n",
    "\n",
    "def loss(y, a, b, x):\n",
    "    return sse(y, lin(a, b, x))\n",
    "\n",
    "def avg_loss(y, a, b, x):\n",
    "    return np.sqrt(loss(y, a, b, x) / n)"
   ]
  },
  {
   "cell_type": "code",
   "execution_count": 11,
   "metadata": {},
   "outputs": [
    {
     "data": {
      "text/plain": [
       "9.1322878896174444"
      ]
     },
     "execution_count": 11,
     "metadata": {},
     "output_type": "execute_result"
    }
   ],
   "source": [
    "a_guess = -1\n",
    "b_guess = 1\n",
    "avg_loss(y, a_guess, b_guess, x)"
   ]
  },
  {
   "cell_type": "code",
   "execution_count": 12,
   "metadata": {
    "collapsed": true
   },
   "outputs": [],
   "source": [
    "lr = 0.01"
   ]
  },
  {
   "cell_type": "code",
   "execution_count": 31,
   "metadata": {},
   "outputs": [],
   "source": [
    "pred = lin(a_guess, b_guess, x)\n",
    "np.savetxt(fname='xy.csv', X=np.asarray([x, y, pred]).transpose(), fmt='%f', delimiter=',', newline='\\n', header=\"x,y,pred\", footer='', comments='')"
   ]
  }
 ],
 "metadata": {
  "kernelspec": {
   "display_name": "Python 2",
   "language": "python",
   "name": "python2"
  },
  "language_info": {
   "codemirror_mode": {
    "name": "ipython",
    "version": 2
   },
   "file_extension": ".py",
   "mimetype": "text/x-python",
   "name": "python",
   "nbconvert_exporter": "python",
   "pygments_lexer": "ipython2",
   "version": "2.7.13"
  }
 },
 "nbformat": 4,
 "nbformat_minor": 2
}
