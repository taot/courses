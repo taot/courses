{
 "cells": [
  {
   "cell_type": "code",
   "execution_count": 173,
   "metadata": {
    "collapsed": true
   },
   "outputs": [],
   "source": [
    "%matplotlib inline"
   ]
  },
  {
   "cell_type": "code",
   "execution_count": 174,
   "metadata": {
    "collapsed": true
   },
   "outputs": [],
   "source": [
    "path = \"../../homework/data/kaggle_dogs_vs_cats/\""
   ]
  },
  {
   "cell_type": "code",
   "execution_count": 175,
   "metadata": {},
   "outputs": [],
   "source": [
    "from __future__ import division,print_function\n",
    "\n",
    "import os, json\n",
    "from glob import glob\n",
    "import numpy as np\n",
    "np.set_printoptions(precision=4, linewidth=100)\n",
    "from matplotlib import pyplot as plt\n",
    "from keras.preprocessing import image as keras_image"
   ]
  },
  {
   "cell_type": "code",
   "execution_count": 176,
   "metadata": {},
   "outputs": [],
   "source": [
    "import utils; reload(utils)\n",
    "from utils import plots"
   ]
  },
  {
   "cell_type": "code",
   "execution_count": 177,
   "metadata": {
    "collapsed": true
   },
   "outputs": [],
   "source": [
    "import vgg16; reload(vgg16)\n",
    "from vgg16 import Vgg16"
   ]
  },
  {
   "cell_type": "code",
   "execution_count": 178,
   "metadata": {
    "collapsed": true
   },
   "outputs": [],
   "source": [
    "batch_size=64"
   ]
  },
  {
   "cell_type": "code",
   "execution_count": 179,
   "metadata": {},
   "outputs": [
    {
     "name": "stdout",
     "output_type": "stream",
     "text": [
      "Found 16 images belonging to 2 classes.\n",
      "Found 8 images belonging to 2 classes.\n"
     ]
    }
   ],
   "source": [
    "# Prepare model and create batch\n",
    "vgg = Vgg16()\n",
    "batches = vgg.get_batches(path+'train', batch_size=batch_size)\n",
    "val_batches = vgg.get_batches(path+'valid', batch_size=batch_size)"
   ]
  },
  {
   "cell_type": "code",
   "execution_count": 180,
   "metadata": {},
   "outputs": [
    {
     "name": "stdout",
     "output_type": "stream",
     "text": [
      "Epoch 1/1\n",
      "16/16 [==============================] - 6s - loss: 2.1364 - acc: 0.5625 - val_loss: 0.4273 - val_acc: 0.8750\n"
     ]
    }
   ],
   "source": [
    "# Finetue the model on our data\n",
    "vgg.finetune(batches)\n",
    "vgg.fit(batches, val_batches, nb_epoch=1)"
   ]
  },
  {
   "cell_type": "code",
   "execution_count": 181,
   "metadata": {},
   "outputs": [],
   "source": [
    "# test_batches = vgg.get_batches(path + 'mytest', shuffle=False, batch_size=2, class_mode=None)"
   ]
  },
  {
   "cell_type": "code",
   "execution_count": 182,
   "metadata": {},
   "outputs": [],
   "source": [
    "# img_gen = keras_image.ImageDataGenerator()\n",
    "# test_batches = img_gen.flow_from_directory(path + 'mytest', target_size=(224, 224), shuffle=False, batch_size=4, class_mode=None)"
   ]
  },
  {
   "cell_type": "code",
   "execution_count": 183,
   "metadata": {},
   "outputs": [],
   "source": [
    "# imgs = next(test_batches)\n",
    "# plots(imgs)"
   ]
  },
  {
   "cell_type": "code",
   "execution_count": 184,
   "metadata": {},
   "outputs": [],
   "source": [
    "# type(imgs)\n",
    "# imgs.shape"
   ]
  },
  {
   "cell_type": "code",
   "execution_count": 185,
   "metadata": {},
   "outputs": [],
   "source": [
    "# vgg.predict(imgs, True)"
   ]
  },
  {
   "cell_type": "code",
   "execution_count": 186,
   "metadata": {},
   "outputs": [],
   "source": [
    "# predict class for an image file, return 0 on dog and 1 on cat\n",
    "def predict_file(path):\n",
    "    img_obj = keras_image.load_img(path=path, target_size=(224, 224))\n",
    "    img = keras_image.img_to_array(img_obj)\n",
    "    res = vgg.predict(np.array([img]), True)\n",
    "    s = res[2][0]\n",
    "    if s == 'cats':\n",
    "        return 1\n",
    "    else:\n",
    "        return 0"
   ]
  },
  {
   "cell_type": "code",
   "execution_count": 187,
   "metadata": {},
   "outputs": [],
   "source": [
    "# predict_file(path + 'mytest/test/4.jpg')"
   ]
  },
  {
   "cell_type": "code",
   "execution_count": 188,
   "metadata": {},
   "outputs": [
    {
     "name": "stdout",
     "output_type": "stream",
     "text": [
      "2 0\n",
      "8 1\n",
      "9 1\n",
      "1 0\n",
      "4 0\n",
      "20 1\n"
     ]
    }
   ],
   "source": [
    "test_dir = path + 'mytest/test/'\n",
    "with open(path + 'mytest/result.csv', 'w') as file:\n",
    "    count = 0\n",
    "    for f in os.listdir(test_dir):\n",
    "        count++\n",
    "        if count % 100 == 0:\n",
    "            print(\"count: %d\" % count)\n",
    "        id = f.split(\".\")[0]\n",
    "        test_file = test_dir + f\n",
    "        c = predict_file(test_file)\n",
    "#         print('%s %s' % (id, c))\n",
    "        file.write('%s,%s\\n' % (id, c))"
   ]
  }
 ],
 "metadata": {
  "kernelspec": {
   "display_name": "Python 2",
   "language": "python",
   "name": "python2"
  },
  "language_info": {
   "codemirror_mode": {
    "name": "ipython",
    "version": 2
   },
   "file_extension": ".py",
   "mimetype": "text/x-python",
   "name": "python",
   "nbconvert_exporter": "python",
   "pygments_lexer": "ipython2",
   "version": "2.7.13"
  }
 },
 "nbformat": 4,
 "nbformat_minor": 2
}
