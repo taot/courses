{
 "cells": [
  {
   "cell_type": "markdown",
   "metadata": {},
   "source": [
    "### 手动输入以熟悉 keras, numpy"
   ]
  },
  {
   "cell_type": "code",
   "execution_count": 1,
   "metadata": {},
   "outputs": [
    {
     "name": "stderr",
     "output_type": "stream",
     "text": [
      "Using Theano backend.\n"
     ]
    }
   ],
   "source": [
    "%matplotlib inline\n",
    "import numpy as np\n",
    "from keras.models import Sequential\n",
    "from keras.layers.core import Dense\n",
    "from keras.optimizers import SGD"
   ]
  },
  {
   "cell_type": "code",
   "execution_count": 3,
   "metadata": {},
   "outputs": [
    {
     "data": {
      "text/plain": [
       "array([[ 0.76640163,  0.72831227],\n",
       "       [ 0.51934837,  0.49925321],\n",
       "       [ 0.93622556,  0.50546544],\n",
       "       [ 0.12659499,  0.65698074],\n",
       "       [ 0.28160409,  0.82098779]])"
      ]
     },
     "execution_count": 3,
     "metadata": {},
     "output_type": "execute_result"
    }
   ],
   "source": [
    "x[:5]"
   ]
  },
  {
   "cell_type": "code",
   "execution_count": 4,
   "metadata": {},
   "outputs": [
    {
     "data": {
      "text/plain": [
       "array([ 4.71774005,  3.53645637,  4.38884744,  3.22413221,  4.02617155,\n",
       "        5.21055822,  4.47716128,  5.12382334,  1.80932573,  2.7935954 ,\n",
       "        2.9285439 ,  2.92660222,  2.3902755 ,  3.61710484,  3.86629016,\n",
       "        3.4262916 ,  5.64846349,  3.56846851,  3.90783696,  2.23547793,\n",
       "        3.1753679 ,  2.52576733,  2.95010195,  4.16699044,  5.33985827,\n",
       "        4.64297315,  1.85936296,  4.21549146,  5.13653028,  3.14010694])"
      ]
     },
     "execution_count": 4,
     "metadata": {},
     "output_type": "execute_result"
    }
   ],
   "source": [
    "y"
   ]
  },
  {
   "cell_type": "code",
   "execution_count": 13,
   "metadata": {
    "collapsed": true
   },
   "outputs": [],
   "source": [
    "lm = Sequential([Dense(1, input_dim=2)])\n",
    "lm.compile(optimizer=SGD(lr=0.1), loss='mse')"
   ]
  },
  {
   "cell_type": "code",
   "execution_count": 14,
   "metadata": {},
   "outputs": [
    {
     "name": "stdout",
     "output_type": "stream",
     "text": [
      "30/30 [==============================] - 0s\n"
     ]
    },
    {
     "data": {
      "text/plain": [
       "8.8943634033203125"
      ]
     },
     "execution_count": 14,
     "metadata": {},
     "output_type": "execute_result"
    }
   ],
   "source": [
    "lm.evaluate(x, y)"
   ]
  },
  {
   "cell_type": "code",
   "execution_count": 15,
   "metadata": {},
   "outputs": [
    {
     "name": "stdout",
     "output_type": "stream",
     "text": [
      "Epoch 1/10\n",
      "30/30 [==============================] - 0s - loss: 0.6901     \n",
      "Epoch 2/10\n",
      "30/30 [==============================] - 0s - loss: 0.0359     \n",
      "Epoch 3/10\n",
      "30/30 [==============================] - 0s - loss: 0.0210     \n",
      "Epoch 4/10\n",
      "30/30 [==============================] - 0s - loss: 0.0107     \n",
      "Epoch 5/10\n",
      "30/30 [==============================] - 0s - loss: 0.0062     \n",
      "Epoch 6/10\n",
      "30/30 [==============================] - 0s - loss: 0.0032       \n",
      "Epoch 7/10\n",
      "30/30 [==============================] - 0s - loss: 0.0016     \n",
      "Epoch 8/10\n",
      "30/30 [==============================] - 0s - loss: 9.3769e-04 \n",
      "Epoch 9/10\n",
      "30/30 [==============================] - 0s - loss: 5.1411e-04     \n",
      "Epoch 10/10\n",
      "30/30 [==============================] - 0s - loss: 2.6265e-04     \n"
     ]
    },
    {
     "data": {
      "text/plain": [
       "<keras.callbacks.History at 0x7f0d12f80ed0>"
      ]
     },
     "execution_count": 15,
     "metadata": {},
     "output_type": "execute_result"
    }
   ],
   "source": [
    "lm.fit(x, y, nb_epoch=10, batch_size=1)"
   ]
  },
  {
   "cell_type": "code",
   "execution_count": 16,
   "metadata": {},
   "outputs": [
    {
     "name": "stdout",
     "output_type": "stream",
     "text": [
      "30/30 [==============================] - 0s\n"
     ]
    },
    {
     "data": {
      "text/plain": [
       "0.00019181218522135168"
      ]
     },
     "execution_count": 16,
     "metadata": {},
     "output_type": "execute_result"
    }
   ],
   "source": [
    "lm.evaluate(x, y)"
   ]
  },
  {
   "cell_type": "code",
   "execution_count": 17,
   "metadata": {},
   "outputs": [
    {
     "data": {
      "text/plain": [
       "[array([[ 1.95307863],\n",
       "        [ 2.97801733]], dtype=float32), array([ 1.03753459], dtype=float32)]"
      ]
     },
     "execution_count": 17,
     "metadata": {},
     "output_type": "execute_result"
    }
   ],
   "source": [
    "lm.get_weights()"
   ]
  }
 ],
 "metadata": {
  "kernelspec": {
   "display_name": "Python 2",
   "language": "python",
   "name": "python2"
  },
  "language_info": {
   "codemirror_mode": {
    "name": "ipython",
    "version": 2
   },
   "file_extension": ".py",
   "mimetype": "text/x-python",
   "name": "python",
   "nbconvert_exporter": "python",
   "pygments_lexer": "ipython2",
   "version": "2.7.13"
  }
 },
 "nbformat": 4,
 "nbformat_minor": 2
}
